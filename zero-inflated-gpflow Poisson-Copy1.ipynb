{
 "cells": [
  {
   "cell_type": "markdown",
   "metadata": {},
   "source": [
    "## Variational Zero-inflated Gaussian Processes in GPFlow"
   ]
  },
  {
   "cell_type": "code",
   "execution_count": 1,
   "metadata": {},
   "outputs": [],
   "source": [
    "%load_ext autoreload\n",
    "%autoreload 2\n",
    "import tensorflow as tf\n",
    "import gpflow as gpf\n",
    "import numpy as np\n",
    "gpf.config.set_default_float(np.float32)\n",
    "\n",
    "gpf.config.set_default_jitter(tf.cast(1e-6, dtype=gpf.default_float()))\n",
    "from onoffgpf import OnOffSVGP, OnOffLikelihood, OnOffPoissonLikelihood\n",
    "from onoffgpf.PlotOnOff1D import PlotOnOff1D\n",
    "\n",
    "from gpflow.ci_utils import ci_niter\n",
    "\n",
    "import gpflow\n",
    "\n",
    "import scipy.io as sio\n",
    "import matplotlib.pyplot as plt\n",
    "\n",
    "import tensorflow_probability as tfp"
   ]
  },
  {
   "cell_type": "markdown",
   "metadata": {},
   "source": [
    "** Load simulated dataset **"
   ]
  },
  {
   "cell_type": "code",
   "execution_count": 2,
   "metadata": {},
   "outputs": [],
   "source": [
    "matdata = sio.loadmat('data/toydata.mat')\n",
    "Xtrain = matdata['x'].astype(gpf.default_float())\n",
    "Ytrain = matdata['y'].astype(gpf.default_float())"
   ]
  },
  {
   "cell_type": "code",
   "execution_count": 1,
   "metadata": {},
   "outputs": [
    {
     "ename": "NameError",
     "evalue": "name 'Ytrain' is not defined",
     "output_type": "error",
     "traceback": [
      "\u001b[0;31m---------------------------------------------------------------------------\u001b[0m",
      "\u001b[0;31mNameError\u001b[0m                                 Traceback (most recent call last)",
      "Input \u001b[0;32mIn [1]\u001b[0m, in \u001b[0;36m<cell line: 1>\u001b[0;34m()\u001b[0m\n\u001b[0;32m----> 1\u001b[0m \u001b[43mYtrain\u001b[49m[(Xtrain\u001b[38;5;241m<\u001b[39m\u001b[38;5;241m=\u001b[39m\u001b[38;5;241m2\u001b[39m)] \u001b[38;5;241m=\u001b[39m \u001b[38;5;241m1\u001b[39m\n\u001b[1;32m      2\u001b[0m Ytrain[(Xtrain\u001b[38;5;241m>\u001b[39m\u001b[38;5;241m2\u001b[39m) \u001b[38;5;241m&\u001b[39m (Xtrain\u001b[38;5;241m<\u001b[39m\u001b[38;5;241m3\u001b[39m)] \u001b[38;5;241m=\u001b[39m \u001b[38;5;241m0\u001b[39m\n\u001b[1;32m      3\u001b[0m Ytrain[(Xtrain\u001b[38;5;241m>\u001b[39m\u001b[38;5;241m3\u001b[39m) \u001b[38;5;241m&\u001b[39m (Xtrain\u001b[38;5;241m<\u001b[39m\u001b[38;5;241m3.5\u001b[39m)] \u001b[38;5;241m=\u001b[39m \u001b[38;5;241m3\u001b[39m\n",
      "\u001b[0;31mNameError\u001b[0m: name 'Ytrain' is not defined"
     ]
    }
   ],
   "source": [
    "Ytrain[(Xtrain<=2)] = 1\n",
    "Ytrain[(Xtrain>2) & (Xtrain<3)] = 0\n",
    "Ytrain[(Xtrain>3) & (Xtrain<3.5)] = 3\n",
    "Ytrain[(Xtrain>3.5) & (Xtrain<4)] = 4\n",
    "Ytrain[(Xtrain>=4)] = 5\n",
    "\n",
    "Ytrain[(Xtrain>7) & (Xtrain<9)] = 0"
   ]
  },
  {
   "cell_type": "code",
   "execution_count": 4,
   "metadata": {},
   "outputs": [
    {
     "data": {
      "image/png": "[encoded data removed]",
      "text/plain": [
       "<Figure size 432x288 with 1 Axes>"
      ]
     },
     "metadata": {
      "needs_background": "light"
     },
     "output_type": "display_data"
    }
   ],
   "source": [
    "plt.scatter(Xtrain,Ytrain)\n",
    "plt.title(\"Simulated data\")\n",
    "plt.show()"
   ]
  },
  {
   "cell_type": "markdown",
   "metadata": {},
   "source": [
    "**Train specifications & variable initializations**"
   ]
  },
  {
   "cell_type": "code",
   "execution_count": 5,
   "metadata": {},
   "outputs": [],
   "source": [
    "num_iterations = 8000\n",
    "num_inducing   = 10\n",
    "\n",
    "# initalize kernel parameters\n",
    "kf = gpf.kernels.RBF(variance=1, lengthscales=2)\n",
    "#kf.lengthscales = 2.\n",
    "#kf.variance = 1.\n",
    "\n",
    "kg = gpf.kernels.RBF(variance=5, lengthscales=2)\n",
    "#kg.lengthscales = 2.\n",
    "#kg.variance = 5.\n",
    "\n",
    "# initialise equally spaced inducing point locations\n",
    "Zf = np.delete(np.linspace(min(Xtrain),max(Xtrain),num_inducing,endpoint=False),0).transpose().reshape(-1,1)\n",
    "Zg = np.delete(np.linspace(min(Xtrain),max(Xtrain),num_inducing,endpoint=False),0).transpose().reshape(-1,1)"
   ]
  },
  {
   "cell_type": "markdown",
   "metadata": {},
   "source": [
    "** Model build and training **"
   ]
  },
  {
   "cell_type": "code",
   "execution_count": 6,
   "metadata": {},
   "outputs": [],
   "source": [
    "# model definition\n",
    "m = OnOffSVGP(Xtrain, Ytrain\n",
    "              ,kernf=kf,kerng=kg\n",
    "              ,likelihood = OnOffPoissonLikelihood()\n",
    "              ,Zf = Zf,Zg = Zg\n",
    "             )\n",
    "\n",
    "# fix the model noise term\n",
    "#m.likelihood.variance.assign(0.01)\n",
    "from gpflow import set_trainable\n",
    "#set_trainable(m.likelihood.variance, True)\n",
    "\n",
    "minibatch_size = 100\n",
    "\n",
    "N=len(Xtrain)\n",
    "\n",
    "train_dataset = tf.data.Dataset.from_tensor_slices((tf.convert_to_tensor(Xtrain,),\n",
    "                                                    tf.convert_to_tensor(Ytrain,)),)#.repeat().shuffle(N)\n",
    "\n",
    "train_iter = iter(train_dataset)#batch(minibatch_size))\n"
   ]
  },
  {
   "cell_type": "code",
   "execution_count": 7,
   "metadata": {},
   "outputs": [],
   "source": [
    "def run_adam(model, iterations):\n",
    "    \"\"\"\n",
    "    Utility function running the Adam optimizer\n",
    "\n",
    "    :param model: GPflow model\n",
    "    :param interations: number of iterations\n",
    "    \"\"\"\n",
    "    # Create an Adam Optimizer action\n",
    "    logf = []\n",
    "    train_iter = train_dataset#iter(train_dataset.batch(minibatch_size))\n",
    "    training_loss = model.training_loss_closure(compile=True)\n",
    "    optimizer = tf.optimizers.Adam(learning_rate=0.005)#gpflow.optimizers.Adam(learning_rate=0.01)\n",
    "\n",
    "    @tf.function\n",
    "    def optimization_step():\n",
    "        optimizer.minimize(training_loss, model.trainable_variables)\n",
    "\n",
    "    for step in range(iterations):\n",
    "        optimization_step()\n",
    "        if step % 10 == 0:\n",
    "            elbo = -training_loss().numpy()\n",
    "            logf.append(elbo)\n",
    "    return logf"
   ]
  },
  {
   "cell_type": "code",
   "execution_count": 10,
   "metadata": {},
   "outputs": [],
   "source": [
    "maxiter = ci_niter(200)\n",
    "\n",
    "logf = run_adam(m, maxiter)"
   ]
  },
  {
   "cell_type": "code",
   "execution_count": 7,
   "metadata": {},
   "outputs": [],
   "source": [
    "def my_callback_closure(model, history):\n",
    "    def my_callback(step, variables, values):\n",
    "\n",
    "        history.append(-model.training_loss())\n",
    "        return\n",
    "    return my_callback\n",
    "def run_adam(model, iterations):\n",
    "        \"\"\"\n",
    "        Utility function running the Adam optimizer\n",
    "\n",
    "        :param model: GPflow model\n",
    "        :param interations: number of iterations\n",
    "        \"\"\"\n",
    "        # Create an Adam Optimizer action\n",
    "        logf = []\n",
    "        train_iter = train_dataset#iter(train_dataset.batch(minibatch_size))\n",
    "        training_loss = model.training_loss_closure(compile=True)\n",
    "        optimizer = tf.optimizers.Adam(learning_rate=0.005)#gpflow.optimizers.Adam(learning_rate=0.01)\n",
    "\n",
    "        #@tf.function\n",
    "        #def optimization_step():\n",
    "        #    optimizer.minimize(training_loss, model.trainable_variables)\n",
    "\n",
    "\n",
    "        \n",
    "        history=[]\n",
    "        gpflow.optimizers.Scipy().minimize(\n",
    "            model.training_loss,\n",
    "            model.trainable_variables,\n",
    "            options=dict(maxiter=iterations),\n",
    "            tol=10e-10,\n",
    "            method=\"L-BFGS-B\",\n",
    "            step_callback=my_callback_closure(model, history)\n",
    "        )\n",
    "\n",
    "        return history\n",
    "logf = run_adam(m, 20000)"
   ]
  },
  {
   "cell_type": "code",
   "execution_count": 10,
   "metadata": {},
   "outputs": [
    {
     "ename": "AssertionError",
     "evalue": "",
     "output_type": "error",
     "traceback": [
      "\u001b[0;31m---------------------------------------------------------------------------\u001b[0m",
      "\u001b[0;31mAssertionError\u001b[0m                            Traceback (most recent call last)",
      "File \u001b[0;32m~/anaconda3/envs/port_zigp/lib/python3.10/site-packages/IPython/core/formatters.py:707\u001b[0m, in \u001b[0;36mPlainTextFormatter.__call__\u001b[0;34m(self, obj)\u001b[0m\n\u001b[1;32m    700\u001b[0m stream \u001b[38;5;241m=\u001b[39m StringIO()\n\u001b[1;32m    701\u001b[0m printer \u001b[38;5;241m=\u001b[39m pretty\u001b[38;5;241m.\u001b[39mRepresentationPrinter(stream, \u001b[38;5;28mself\u001b[39m\u001b[38;5;241m.\u001b[39mverbose,\n\u001b[1;32m    702\u001b[0m     \u001b[38;5;28mself\u001b[39m\u001b[38;5;241m.\u001b[39mmax_width, \u001b[38;5;28mself\u001b[39m\u001b[38;5;241m.\u001b[39mnewline,\n\u001b[1;32m    703\u001b[0m     max_seq_length\u001b[38;5;241m=\u001b[39m\u001b[38;5;28mself\u001b[39m\u001b[38;5;241m.\u001b[39mmax_seq_length,\n\u001b[1;32m    704\u001b[0m     singleton_pprinters\u001b[38;5;241m=\u001b[39m\u001b[38;5;28mself\u001b[39m\u001b[38;5;241m.\u001b[39msingleton_printers,\n\u001b[1;32m    705\u001b[0m     type_pprinters\u001b[38;5;241m=\u001b[39m\u001b[38;5;28mself\u001b[39m\u001b[38;5;241m.\u001b[39mtype_printers,\n\u001b[1;32m    706\u001b[0m     deferred_pprinters\u001b[38;5;241m=\u001b[39m\u001b[38;5;28mself\u001b[39m\u001b[38;5;241m.\u001b[39mdeferred_printers)\n\u001b[0;32m--> 707\u001b[0m \u001b[43mprinter\u001b[49m\u001b[38;5;241;43m.\u001b[39;49m\u001b[43mpretty\u001b[49m\u001b[43m(\u001b[49m\u001b[43mobj\u001b[49m\u001b[43m)\u001b[49m\n\u001b[1;32m    708\u001b[0m printer\u001b[38;5;241m.\u001b[39mflush()\n\u001b[1;32m    709\u001b[0m \u001b[38;5;28;01mreturn\u001b[39;00m stream\u001b[38;5;241m.\u001b[39mgetvalue()\n",
      "File \u001b[0;32m~/anaconda3/envs/port_zigp/lib/python3.10/site-packages/IPython/lib/pretty.py:407\u001b[0m, in \u001b[0;36mRepresentationPrinter.pretty\u001b[0;34m(self, obj)\u001b[0m\n\u001b[1;32m    405\u001b[0m     meth \u001b[38;5;241m=\u001b[39m \u001b[38;5;28mcls\u001b[39m\u001b[38;5;241m.\u001b[39m_repr_pretty_\n\u001b[1;32m    406\u001b[0m     \u001b[38;5;28;01mif\u001b[39;00m callable(meth):\n\u001b[0;32m--> 407\u001b[0m         \u001b[38;5;28;01mreturn\u001b[39;00m \u001b[43mmeth\u001b[49m\u001b[43m(\u001b[49m\u001b[43mobj\u001b[49m\u001b[43m,\u001b[49m\u001b[43m \u001b[49m\u001b[38;5;28;43mself\u001b[39;49m\u001b[43m,\u001b[49m\u001b[43m \u001b[49m\u001b[43mcycle\u001b[49m\u001b[43m)\u001b[49m\n\u001b[1;32m    408\u001b[0m \u001b[38;5;28;01mif\u001b[39;00m \u001b[38;5;28mcls\u001b[39m \u001b[38;5;129;01mis\u001b[39;00m \u001b[38;5;129;01mnot\u001b[39;00m \u001b[38;5;28mobject\u001b[39m \\\n\u001b[1;32m    409\u001b[0m         \u001b[38;5;129;01mand\u001b[39;00m callable(\u001b[38;5;28mcls\u001b[39m\u001b[38;5;241m.\u001b[39m\u001b[38;5;18m__dict__\u001b[39m\u001b[38;5;241m.\u001b[39mget(\u001b[38;5;124m'\u001b[39m\u001b[38;5;124m__repr__\u001b[39m\u001b[38;5;124m'\u001b[39m)):\n\u001b[1;32m    410\u001b[0m     \u001b[38;5;28;01mreturn\u001b[39;00m _repr_pprint(obj, \u001b[38;5;28mself\u001b[39m, cycle)\n",
      "File \u001b[0;32m~/anaconda3/envs/port_zigp/lib/python3.10/site-packages/gpflow/base.py:97\u001b[0m, in \u001b[0;36mModule._repr_pretty_\u001b[0;34m(self, p, cycle)\u001b[0m\n\u001b[1;32m     95\u001b[0m \u001b[38;5;28;01mdef\u001b[39;00m \u001b[38;5;21m_repr_pretty_\u001b[39m(\u001b[38;5;28mself\u001b[39m, p: \u001b[38;5;124m\"\u001b[39m\u001b[38;5;124mpretty.RepresentationPrinter\u001b[39m\u001b[38;5;124m\"\u001b[39m, cycle: \u001b[38;5;28mbool\u001b[39m) \u001b[38;5;241m-\u001b[39m\u001b[38;5;241m>\u001b[39m \u001b[38;5;28;01mNone\u001b[39;00m:\n\u001b[1;32m     96\u001b[0m     \u001b[38;5;124;03m\"\"\" Nice representation of GPflow objects in the IPython shell \"\"\"\u001b[39;00m\n\u001b[0;32m---> 97\u001b[0m     repr_str \u001b[38;5;241m=\u001b[39m \u001b[38;5;28;43mself\u001b[39;49m\u001b[38;5;241;43m.\u001b[39;49m\u001b[43m_representation_table\u001b[49m\u001b[43m(\u001b[49m\u001b[38;5;28;43mrepr\u001b[39;49m\u001b[43m(\u001b[49m\u001b[38;5;28;43mself\u001b[39;49m\u001b[43m)\u001b[49m\u001b[43m,\u001b[49m\u001b[43m \u001b[49m\u001b[43mdefault_summary_fmt\u001b[49m\u001b[43m(\u001b[49m\u001b[43m)\u001b[49m\u001b[43m)\u001b[49m\n\u001b[1;32m     98\u001b[0m     p\u001b[38;5;241m.\u001b[39mtext(repr_str)\n",
      "File \u001b[0;32m~/anaconda3/envs/port_zigp/lib/python3.10/site-packages/gpflow/base.py:86\u001b[0m, in \u001b[0;36mModule._representation_table\u001b[0;34m(self, object_name, tablefmt)\u001b[0m\n\u001b[1;32m     84\u001b[0m repr_components \u001b[38;5;241m=\u001b[39m [object_name]\n\u001b[1;32m     85\u001b[0m \u001b[38;5;28;01mif\u001b[39;00m leaf_components(\u001b[38;5;28mself\u001b[39m):\n\u001b[0;32m---> 86\u001b[0m     repr_components\u001b[38;5;241m.\u001b[39mappend(\u001b[43mtabulate_module_summary\u001b[49m\u001b[43m(\u001b[49m\u001b[38;5;28;43mself\u001b[39;49m\u001b[43m,\u001b[49m\u001b[43m \u001b[49m\u001b[43mtablefmt\u001b[49m\u001b[38;5;241;43m=\u001b[39;49m\u001b[43mtablefmt\u001b[49m\u001b[43m)\u001b[49m)\n\u001b[1;32m     87\u001b[0m \u001b[38;5;28;01mreturn\u001b[39;00m \u001b[38;5;124m\"\u001b[39m\u001b[38;5;130;01m\\n\u001b[39;00m\u001b[38;5;124m\"\u001b[39m\u001b[38;5;241m.\u001b[39mjoin(repr_components)\n",
      "File \u001b[0;32m~/anaconda3/envs/port_zigp/lib/python3.10/site-packages/gpflow/utilities/traversal.py:136\u001b[0m, in \u001b[0;36mtabulate_module_summary\u001b[0;34m(module, tablefmt)\u001b[0m\n\u001b[1;32m    132\u001b[0m column_names, column_getters \u001b[38;5;241m=\u001b[39m \u001b[38;5;28mzip\u001b[39m(\u001b[38;5;241m*\u001b[39mcolumn_definition)\n\u001b[1;32m    134\u001b[0m merged_leaf_components \u001b[38;5;241m=\u001b[39m _merge_leaf_components(leaf_components(module))\n\u001b[0;32m--> 136\u001b[0m column_values \u001b[38;5;241m=\u001b[39m [\n\u001b[1;32m    137\u001b[0m     [getter(path, variable) \u001b[38;5;28;01mfor\u001b[39;00m getter \u001b[38;5;129;01min\u001b[39;00m column_getters]\n\u001b[1;32m    138\u001b[0m     \u001b[38;5;28;01mfor\u001b[39;00m path, variable \u001b[38;5;129;01min\u001b[39;00m merged_leaf_components\u001b[38;5;241m.\u001b[39mitems()\n\u001b[1;32m    139\u001b[0m ]\n\u001b[1;32m    140\u001b[0m \u001b[38;5;66;03m# mypy claims it's wrong to pass a `None` tablefmt below. I think `tabulate` has bad type hints.\u001b[39;00m\n\u001b[1;32m    141\u001b[0m \u001b[38;5;28;01mreturn\u001b[39;00m tabulate(column_values, headers\u001b[38;5;241m=\u001b[39mcolumn_names, tablefmt\u001b[38;5;241m=\u001b[39mtablefmt)\n",
      "File \u001b[0;32m~/anaconda3/envs/port_zigp/lib/python3.10/site-packages/gpflow/utilities/traversal.py:137\u001b[0m, in \u001b[0;36m<listcomp>\u001b[0;34m(.0)\u001b[0m\n\u001b[1;32m    132\u001b[0m column_names, column_getters \u001b[38;5;241m=\u001b[39m \u001b[38;5;28mzip\u001b[39m(\u001b[38;5;241m*\u001b[39mcolumn_definition)\n\u001b[1;32m    134\u001b[0m merged_leaf_components \u001b[38;5;241m=\u001b[39m _merge_leaf_components(leaf_components(module))\n\u001b[1;32m    136\u001b[0m column_values \u001b[38;5;241m=\u001b[39m [\n\u001b[0;32m--> 137\u001b[0m     [getter(path, variable) \u001b[38;5;28;01mfor\u001b[39;00m getter \u001b[38;5;129;01min\u001b[39;00m column_getters]\n\u001b[1;32m    138\u001b[0m     \u001b[38;5;28;01mfor\u001b[39;00m path, variable \u001b[38;5;129;01min\u001b[39;00m merged_leaf_components\u001b[38;5;241m.\u001b[39mitems()\n\u001b[1;32m    139\u001b[0m ]\n\u001b[1;32m    140\u001b[0m \u001b[38;5;66;03m# mypy claims it's wrong to pass a `None` tablefmt below. I think `tabulate` has bad type hints.\u001b[39;00m\n\u001b[1;32m    141\u001b[0m \u001b[38;5;28;01mreturn\u001b[39;00m tabulate(column_values, headers\u001b[38;5;241m=\u001b[39mcolumn_names, tablefmt\u001b[38;5;241m=\u001b[39mtablefmt)\n",
      "File \u001b[0;32m~/anaconda3/envs/port_zigp/lib/python3.10/site-packages/gpflow/utilities/traversal.py:137\u001b[0m, in \u001b[0;36m<listcomp>\u001b[0;34m(.0)\u001b[0m\n\u001b[1;32m    132\u001b[0m column_names, column_getters \u001b[38;5;241m=\u001b[39m \u001b[38;5;28mzip\u001b[39m(\u001b[38;5;241m*\u001b[39mcolumn_definition)\n\u001b[1;32m    134\u001b[0m merged_leaf_components \u001b[38;5;241m=\u001b[39m _merge_leaf_components(leaf_components(module))\n\u001b[1;32m    136\u001b[0m column_values \u001b[38;5;241m=\u001b[39m [\n\u001b[0;32m--> 137\u001b[0m     [\u001b[43mgetter\u001b[49m\u001b[43m(\u001b[49m\u001b[43mpath\u001b[49m\u001b[43m,\u001b[49m\u001b[43m \u001b[49m\u001b[43mvariable\u001b[49m\u001b[43m)\u001b[49m \u001b[38;5;28;01mfor\u001b[39;00m getter \u001b[38;5;129;01min\u001b[39;00m column_getters]\n\u001b[1;32m    138\u001b[0m     \u001b[38;5;28;01mfor\u001b[39;00m path, variable \u001b[38;5;129;01min\u001b[39;00m merged_leaf_components\u001b[38;5;241m.\u001b[39mitems()\n\u001b[1;32m    139\u001b[0m ]\n\u001b[1;32m    140\u001b[0m \u001b[38;5;66;03m# mypy claims it's wrong to pass a `None` tablefmt below. I think `tabulate` has bad type hints.\u001b[39;00m\n\u001b[1;32m    141\u001b[0m \u001b[38;5;28;01mreturn\u001b[39;00m tabulate(column_values, headers\u001b[38;5;241m=\u001b[39mcolumn_names, tablefmt\u001b[38;5;241m=\u001b[39mtablefmt)\n",
      "File \u001b[0;32m~/anaconda3/envs/port_zigp/lib/python3.10/site-packages/gpflow/utilities/traversal.py:130\u001b[0m, in \u001b[0;36mtabulate_module_summary.<locals>.<lambda>\u001b[0;34m(path, var)\u001b[0m\n\u001b[1;32m    119\u001b[0m     \u001b[38;5;28;01mreturn\u001b[39;00m \u001b[38;5;28;01mNone\u001b[39;00m\n\u001b[1;32m    121\u001b[0m \u001b[38;5;66;03m# list of (column_name: str, column_getter: Callable[[tf.Variable], str]) tuples:\u001b[39;00m\n\u001b[1;32m    122\u001b[0m column_definition \u001b[38;5;241m=\u001b[39m [\n\u001b[1;32m    123\u001b[0m     (\u001b[38;5;124m\"\u001b[39m\u001b[38;5;124mname\u001b[39m\u001b[38;5;124m\"\u001b[39m, \u001b[38;5;28;01mlambda\u001b[39;00m path, var: path),\n\u001b[1;32m    124\u001b[0m     (\u001b[38;5;124m\"\u001b[39m\u001b[38;5;124mclass\u001b[39m\u001b[38;5;124m\"\u001b[39m, \u001b[38;5;28;01mlambda\u001b[39;00m path, var: var\u001b[38;5;241m.\u001b[39m\u001b[38;5;18m__class__\u001b[39m\u001b[38;5;241m.\u001b[39m\u001b[38;5;18m__name__\u001b[39m),\n\u001b[1;32m    125\u001b[0m     (\u001b[38;5;124m\"\u001b[39m\u001b[38;5;124mtransform\u001b[39m\u001b[38;5;124m\"\u001b[39m, get_transform),\n\u001b[1;32m    126\u001b[0m     (\u001b[38;5;124m\"\u001b[39m\u001b[38;5;124mprior\u001b[39m\u001b[38;5;124m\"\u001b[39m, get_prior),\n\u001b[1;32m    127\u001b[0m     (\u001b[38;5;124m\"\u001b[39m\u001b[38;5;124mtrainable\u001b[39m\u001b[38;5;124m\"\u001b[39m, \u001b[38;5;28;01mlambda\u001b[39;00m path, var: var\u001b[38;5;241m.\u001b[39mtrainable),\n\u001b[1;32m    128\u001b[0m     (\u001b[38;5;124m\"\u001b[39m\u001b[38;5;124mshape\u001b[39m\u001b[38;5;124m\"\u001b[39m, \u001b[38;5;28;01mlambda\u001b[39;00m path, var: var\u001b[38;5;241m.\u001b[39mshape),\n\u001b[1;32m    129\u001b[0m     (\u001b[38;5;124m\"\u001b[39m\u001b[38;5;124mdtype\u001b[39m\u001b[38;5;124m\"\u001b[39m, \u001b[38;5;28;01mlambda\u001b[39;00m path, var: var\u001b[38;5;241m.\u001b[39mdtype\u001b[38;5;241m.\u001b[39mname),\n\u001b[0;32m--> 130\u001b[0m     (\u001b[38;5;124m\"\u001b[39m\u001b[38;5;124mvalue\u001b[39m\u001b[38;5;124m\"\u001b[39m, \u001b[38;5;28;01mlambda\u001b[39;00m path, var: \u001b[43m_str_tensor_value\u001b[49m\u001b[43m(\u001b[49m\u001b[43mvar\u001b[49m\u001b[38;5;241;43m.\u001b[39;49m\u001b[43mnumpy\u001b[49m\u001b[43m(\u001b[49m\u001b[43m)\u001b[49m\u001b[43m)\u001b[49m),\n\u001b[1;32m    131\u001b[0m ]\n\u001b[1;32m    132\u001b[0m column_names, column_getters \u001b[38;5;241m=\u001b[39m \u001b[38;5;28mzip\u001b[39m(\u001b[38;5;241m*\u001b[39mcolumn_definition)\n\u001b[1;32m    134\u001b[0m merged_leaf_components \u001b[38;5;241m=\u001b[39m _merge_leaf_components(leaf_components(module))\n",
      "File \u001b[0;32m~/anaconda3/envs/port_zigp/lib/python3.10/site-packages/gpflow/utilities/traversal.py:341\u001b[0m, in \u001b[0;36m_str_tensor_value\u001b[0;34m(value)\u001b[0m\n\u001b[1;32m    339\u001b[0m regexp \u001b[38;5;241m=\u001b[39m _first_three_elements_regexp()\n\u001b[1;32m    340\u001b[0m match \u001b[38;5;241m=\u001b[39m regexp\u001b[38;5;241m.\u001b[39mmatch(value_str)\n\u001b[0;32m--> 341\u001b[0m \u001b[38;5;28;01massert\u001b[39;00m match \u001b[38;5;129;01mis\u001b[39;00m \u001b[38;5;129;01mnot\u001b[39;00m \u001b[38;5;28;01mNone\u001b[39;00m\n\u001b[1;32m    342\u001b[0m brackets, elem1, elem2, elem3 \u001b[38;5;241m=\u001b[39m match\u001b[38;5;241m.\u001b[39mgroups()\n\u001b[1;32m    344\u001b[0m out \u001b[38;5;241m=\u001b[39m \u001b[38;5;124mf\u001b[39m\u001b[38;5;124m\"\u001b[39m\u001b[38;5;132;01m{\u001b[39;00melem1\u001b[38;5;132;01m}\u001b[39;00m\u001b[38;5;124m\"\u001b[39m\n",
      "\u001b[0;31mAssertionError\u001b[0m: "
     ]
    },
    {
     "ename": "AssertionError",
     "evalue": "",
     "output_type": "error",
     "traceback": [
      "\u001b[0;31m---------------------------------------------------------------------------\u001b[0m",
      "\u001b[0;31mAssertionError\u001b[0m                            Traceback (most recent call last)",
      "File \u001b[0;32m~/anaconda3/envs/port_zigp/lib/python3.10/site-packages/IPython/core/formatters.py:343\u001b[0m, in \u001b[0;36mBaseFormatter.__call__\u001b[0;34m(self, obj)\u001b[0m\n\u001b[1;32m    341\u001b[0m     method \u001b[38;5;241m=\u001b[39m get_real_method(obj, \u001b[38;5;28mself\u001b[39m\u001b[38;5;241m.\u001b[39mprint_method)\n\u001b[1;32m    342\u001b[0m     \u001b[38;5;28;01mif\u001b[39;00m method \u001b[38;5;129;01mis\u001b[39;00m \u001b[38;5;129;01mnot\u001b[39;00m \u001b[38;5;28;01mNone\u001b[39;00m:\n\u001b[0;32m--> 343\u001b[0m         \u001b[38;5;28;01mreturn\u001b[39;00m \u001b[43mmethod\u001b[49m\u001b[43m(\u001b[49m\u001b[43m)\u001b[49m\n\u001b[1;32m    344\u001b[0m     \u001b[38;5;28;01mreturn\u001b[39;00m \u001b[38;5;28;01mNone\u001b[39;00m\n\u001b[1;32m    345\u001b[0m \u001b[38;5;28;01melse\u001b[39;00m:\n",
      "File \u001b[0;32m~/anaconda3/envs/port_zigp/lib/python3.10/site-packages/gpflow/base.py:93\u001b[0m, in \u001b[0;36mModule._repr_html_\u001b[0;34m(self)\u001b[0m\n\u001b[1;32m     90\u001b[0m \u001b[38;5;124;03m\"\"\" Nice representation of GPflow objects in IPython/Jupyter notebooks \"\"\"\u001b[39;00m\n\u001b[1;32m     91\u001b[0m \u001b[38;5;28;01mfrom\u001b[39;00m \u001b[38;5;21;01mhtml\u001b[39;00m \u001b[38;5;28;01mimport\u001b[39;00m escape\n\u001b[0;32m---> 93\u001b[0m \u001b[38;5;28;01mreturn\u001b[39;00m \u001b[38;5;28;43mself\u001b[39;49m\u001b[38;5;241;43m.\u001b[39;49m\u001b[43m_representation_table\u001b[49m\u001b[43m(\u001b[49m\u001b[43mescape\u001b[49m\u001b[43m(\u001b[49m\u001b[38;5;28;43mrepr\u001b[39;49m\u001b[43m(\u001b[49m\u001b[38;5;28;43mself\u001b[39;49m\u001b[43m)\u001b[49m\u001b[43m)\u001b[49m\u001b[43m,\u001b[49m\u001b[43m \u001b[49m\u001b[38;5;124;43m\"\u001b[39;49m\u001b[38;5;124;43mhtml\u001b[39;49m\u001b[38;5;124;43m\"\u001b[39;49m\u001b[43m)\u001b[49m\n",
      "File \u001b[0;32m~/anaconda3/envs/port_zigp/lib/python3.10/site-packages/gpflow/base.py:86\u001b[0m, in \u001b[0;36mModule._representation_table\u001b[0;34m(self, object_name, tablefmt)\u001b[0m\n\u001b[1;32m     84\u001b[0m repr_components \u001b[38;5;241m=\u001b[39m [object_name]\n\u001b[1;32m     85\u001b[0m \u001b[38;5;28;01mif\u001b[39;00m leaf_components(\u001b[38;5;28mself\u001b[39m):\n\u001b[0;32m---> 86\u001b[0m     repr_components\u001b[38;5;241m.\u001b[39mappend(\u001b[43mtabulate_module_summary\u001b[49m\u001b[43m(\u001b[49m\u001b[38;5;28;43mself\u001b[39;49m\u001b[43m,\u001b[49m\u001b[43m \u001b[49m\u001b[43mtablefmt\u001b[49m\u001b[38;5;241;43m=\u001b[39;49m\u001b[43mtablefmt\u001b[49m\u001b[43m)\u001b[49m)\n\u001b[1;32m     87\u001b[0m \u001b[38;5;28;01mreturn\u001b[39;00m \u001b[38;5;124m\"\u001b[39m\u001b[38;5;130;01m\\n\u001b[39;00m\u001b[38;5;124m\"\u001b[39m\u001b[38;5;241m.\u001b[39mjoin(repr_components)\n",
      "File \u001b[0;32m~/anaconda3/envs/port_zigp/lib/python3.10/site-packages/gpflow/utilities/traversal.py:136\u001b[0m, in \u001b[0;36mtabulate_module_summary\u001b[0;34m(module, tablefmt)\u001b[0m\n\u001b[1;32m    132\u001b[0m column_names, column_getters \u001b[38;5;241m=\u001b[39m \u001b[38;5;28mzip\u001b[39m(\u001b[38;5;241m*\u001b[39mcolumn_definition)\n\u001b[1;32m    134\u001b[0m merged_leaf_components \u001b[38;5;241m=\u001b[39m _merge_leaf_components(leaf_components(module))\n\u001b[0;32m--> 136\u001b[0m column_values \u001b[38;5;241m=\u001b[39m [\n\u001b[1;32m    137\u001b[0m     [getter(path, variable) \u001b[38;5;28;01mfor\u001b[39;00m getter \u001b[38;5;129;01min\u001b[39;00m column_getters]\n\u001b[1;32m    138\u001b[0m     \u001b[38;5;28;01mfor\u001b[39;00m path, variable \u001b[38;5;129;01min\u001b[39;00m merged_leaf_components\u001b[38;5;241m.\u001b[39mitems()\n\u001b[1;32m    139\u001b[0m ]\n\u001b[1;32m    140\u001b[0m \u001b[38;5;66;03m# mypy claims it's wrong to pass a `None` tablefmt below. I think `tabulate` has bad type hints.\u001b[39;00m\n\u001b[1;32m    141\u001b[0m \u001b[38;5;28;01mreturn\u001b[39;00m tabulate(column_values, headers\u001b[38;5;241m=\u001b[39mcolumn_names, tablefmt\u001b[38;5;241m=\u001b[39mtablefmt)\n",
      "File \u001b[0;32m~/anaconda3/envs/port_zigp/lib/python3.10/site-packages/gpflow/utilities/traversal.py:137\u001b[0m, in \u001b[0;36m<listcomp>\u001b[0;34m(.0)\u001b[0m\n\u001b[1;32m    132\u001b[0m column_names, column_getters \u001b[38;5;241m=\u001b[39m \u001b[38;5;28mzip\u001b[39m(\u001b[38;5;241m*\u001b[39mcolumn_definition)\n\u001b[1;32m    134\u001b[0m merged_leaf_components \u001b[38;5;241m=\u001b[39m _merge_leaf_components(leaf_components(module))\n\u001b[1;32m    136\u001b[0m column_values \u001b[38;5;241m=\u001b[39m [\n\u001b[0;32m--> 137\u001b[0m     [getter(path, variable) \u001b[38;5;28;01mfor\u001b[39;00m getter \u001b[38;5;129;01min\u001b[39;00m column_getters]\n\u001b[1;32m    138\u001b[0m     \u001b[38;5;28;01mfor\u001b[39;00m path, variable \u001b[38;5;129;01min\u001b[39;00m merged_leaf_components\u001b[38;5;241m.\u001b[39mitems()\n\u001b[1;32m    139\u001b[0m ]\n\u001b[1;32m    140\u001b[0m \u001b[38;5;66;03m# mypy claims it's wrong to pass a `None` tablefmt below. I think `tabulate` has bad type hints.\u001b[39;00m\n\u001b[1;32m    141\u001b[0m \u001b[38;5;28;01mreturn\u001b[39;00m tabulate(column_values, headers\u001b[38;5;241m=\u001b[39mcolumn_names, tablefmt\u001b[38;5;241m=\u001b[39mtablefmt)\n",
      "File \u001b[0;32m~/anaconda3/envs/port_zigp/lib/python3.10/site-packages/gpflow/utilities/traversal.py:137\u001b[0m, in \u001b[0;36m<listcomp>\u001b[0;34m(.0)\u001b[0m\n\u001b[1;32m    132\u001b[0m column_names, column_getters \u001b[38;5;241m=\u001b[39m \u001b[38;5;28mzip\u001b[39m(\u001b[38;5;241m*\u001b[39mcolumn_definition)\n\u001b[1;32m    134\u001b[0m merged_leaf_components \u001b[38;5;241m=\u001b[39m _merge_leaf_components(leaf_components(module))\n\u001b[1;32m    136\u001b[0m column_values \u001b[38;5;241m=\u001b[39m [\n\u001b[0;32m--> 137\u001b[0m     [\u001b[43mgetter\u001b[49m\u001b[43m(\u001b[49m\u001b[43mpath\u001b[49m\u001b[43m,\u001b[49m\u001b[43m \u001b[49m\u001b[43mvariable\u001b[49m\u001b[43m)\u001b[49m \u001b[38;5;28;01mfor\u001b[39;00m getter \u001b[38;5;129;01min\u001b[39;00m column_getters]\n\u001b[1;32m    138\u001b[0m     \u001b[38;5;28;01mfor\u001b[39;00m path, variable \u001b[38;5;129;01min\u001b[39;00m merged_leaf_components\u001b[38;5;241m.\u001b[39mitems()\n\u001b[1;32m    139\u001b[0m ]\n\u001b[1;32m    140\u001b[0m \u001b[38;5;66;03m# mypy claims it's wrong to pass a `None` tablefmt below. I think `tabulate` has bad type hints.\u001b[39;00m\n\u001b[1;32m    141\u001b[0m \u001b[38;5;28;01mreturn\u001b[39;00m tabulate(column_values, headers\u001b[38;5;241m=\u001b[39mcolumn_names, tablefmt\u001b[38;5;241m=\u001b[39mtablefmt)\n",
      "File \u001b[0;32m~/anaconda3/envs/port_zigp/lib/python3.10/site-packages/gpflow/utilities/traversal.py:130\u001b[0m, in \u001b[0;36mtabulate_module_summary.<locals>.<lambda>\u001b[0;34m(path, var)\u001b[0m\n\u001b[1;32m    119\u001b[0m     \u001b[38;5;28;01mreturn\u001b[39;00m \u001b[38;5;28;01mNone\u001b[39;00m\n\u001b[1;32m    121\u001b[0m \u001b[38;5;66;03m# list of (column_name: str, column_getter: Callable[[tf.Variable], str]) tuples:\u001b[39;00m\n\u001b[1;32m    122\u001b[0m column_definition \u001b[38;5;241m=\u001b[39m [\n\u001b[1;32m    123\u001b[0m     (\u001b[38;5;124m\"\u001b[39m\u001b[38;5;124mname\u001b[39m\u001b[38;5;124m\"\u001b[39m, \u001b[38;5;28;01mlambda\u001b[39;00m path, var: path),\n\u001b[1;32m    124\u001b[0m     (\u001b[38;5;124m\"\u001b[39m\u001b[38;5;124mclass\u001b[39m\u001b[38;5;124m\"\u001b[39m, \u001b[38;5;28;01mlambda\u001b[39;00m path, var: var\u001b[38;5;241m.\u001b[39m\u001b[38;5;18m__class__\u001b[39m\u001b[38;5;241m.\u001b[39m\u001b[38;5;18m__name__\u001b[39m),\n\u001b[1;32m    125\u001b[0m     (\u001b[38;5;124m\"\u001b[39m\u001b[38;5;124mtransform\u001b[39m\u001b[38;5;124m\"\u001b[39m, get_transform),\n\u001b[1;32m    126\u001b[0m     (\u001b[38;5;124m\"\u001b[39m\u001b[38;5;124mprior\u001b[39m\u001b[38;5;124m\"\u001b[39m, get_prior),\n\u001b[1;32m    127\u001b[0m     (\u001b[38;5;124m\"\u001b[39m\u001b[38;5;124mtrainable\u001b[39m\u001b[38;5;124m\"\u001b[39m, \u001b[38;5;28;01mlambda\u001b[39;00m path, var: var\u001b[38;5;241m.\u001b[39mtrainable),\n\u001b[1;32m    128\u001b[0m     (\u001b[38;5;124m\"\u001b[39m\u001b[38;5;124mshape\u001b[39m\u001b[38;5;124m\"\u001b[39m, \u001b[38;5;28;01mlambda\u001b[39;00m path, var: var\u001b[38;5;241m.\u001b[39mshape),\n\u001b[1;32m    129\u001b[0m     (\u001b[38;5;124m\"\u001b[39m\u001b[38;5;124mdtype\u001b[39m\u001b[38;5;124m\"\u001b[39m, \u001b[38;5;28;01mlambda\u001b[39;00m path, var: var\u001b[38;5;241m.\u001b[39mdtype\u001b[38;5;241m.\u001b[39mname),\n\u001b[0;32m--> 130\u001b[0m     (\u001b[38;5;124m\"\u001b[39m\u001b[38;5;124mvalue\u001b[39m\u001b[38;5;124m\"\u001b[39m, \u001b[38;5;28;01mlambda\u001b[39;00m path, var: \u001b[43m_str_tensor_value\u001b[49m\u001b[43m(\u001b[49m\u001b[43mvar\u001b[49m\u001b[38;5;241;43m.\u001b[39;49m\u001b[43mnumpy\u001b[49m\u001b[43m(\u001b[49m\u001b[43m)\u001b[49m\u001b[43m)\u001b[49m),\n\u001b[1;32m    131\u001b[0m ]\n\u001b[1;32m    132\u001b[0m column_names, column_getters \u001b[38;5;241m=\u001b[39m \u001b[38;5;28mzip\u001b[39m(\u001b[38;5;241m*\u001b[39mcolumn_definition)\n\u001b[1;32m    134\u001b[0m merged_leaf_components \u001b[38;5;241m=\u001b[39m _merge_leaf_components(leaf_components(module))\n",
      "File \u001b[0;32m~/anaconda3/envs/port_zigp/lib/python3.10/site-packages/gpflow/utilities/traversal.py:341\u001b[0m, in \u001b[0;36m_str_tensor_value\u001b[0;34m(value)\u001b[0m\n\u001b[1;32m    339\u001b[0m regexp \u001b[38;5;241m=\u001b[39m _first_three_elements_regexp()\n\u001b[1;32m    340\u001b[0m match \u001b[38;5;241m=\u001b[39m regexp\u001b[38;5;241m.\u001b[39mmatch(value_str)\n\u001b[0;32m--> 341\u001b[0m \u001b[38;5;28;01massert\u001b[39;00m match \u001b[38;5;129;01mis\u001b[39;00m \u001b[38;5;129;01mnot\u001b[39;00m \u001b[38;5;28;01mNone\u001b[39;00m\n\u001b[1;32m    342\u001b[0m brackets, elem1, elem2, elem3 \u001b[38;5;241m=\u001b[39m match\u001b[38;5;241m.\u001b[39mgroups()\n\u001b[1;32m    344\u001b[0m out \u001b[38;5;241m=\u001b[39m \u001b[38;5;124mf\u001b[39m\u001b[38;5;124m\"\u001b[39m\u001b[38;5;132;01m{\u001b[39;00melem1\u001b[38;5;132;01m}\u001b[39;00m\u001b[38;5;124m\"\u001b[39m\n",
      "\u001b[0;31mAssertionError\u001b[0m: "
     ]
    }
   ],
   "source": [
    "m"
   ]
  },
  {
   "cell_type": "code",
   "execution_count": null,
   "metadata": {},
   "outputs": [],
   "source": [
    "#m.optimize(maxiter = num_iterations) #,method= tf.train.AdamOptimizer(learning_rate = 0.01)\n",
    "m.compute_log_likelihood()"
   ]
  },
  {
   "cell_type": "markdown",
   "metadata": {},
   "source": [
    "** Mode fit visualization **"
   ]
  },
  {
   "cell_type": "code",
   "execution_count": 9,
   "metadata": {},
   "outputs": [
    {
     "ename": "AttributeError",
     "evalue": "'OnOffPoissonLikelihood' object has no attribute 'variance'",
     "output_type": "error",
     "traceback": [
      "\u001b[0;31m---------------------------------------------------------------------------\u001b[0m",
      "\u001b[0;31mAttributeError\u001b[0m                            Traceback (most recent call last)",
      "Input \u001b[0;32mIn [9]\u001b[0m, in \u001b[0;36m<cell line: 2>\u001b[0;34m()\u001b[0m\n\u001b[1;32m      1\u001b[0m \u001b[38;5;66;03m# model plot\u001b[39;00m\n\u001b[0;32m----> 2\u001b[0m \u001b[43mPlotOnOff1D\u001b[49m\u001b[43m(\u001b[49m\u001b[43mm\u001b[49m\u001b[43m)\u001b[49m\n",
      "File \u001b[0;32m/mnt/c/Users/kheut/code/zero-inflated-gp/onoffgpf/PlotOnOff1D.py:27\u001b[0m, in \u001b[0;36mPlotOnOff1D\u001b[0;34m(m)\u001b[0m\n\u001b[1;32m     24\u001b[0m _u_gm \u001b[38;5;241m=\u001b[39m m\u001b[38;5;241m.\u001b[39mu_gm\u001b[38;5;241m.\u001b[39mnumpy()\n\u001b[1;32m     25\u001b[0m _u_gs_sqrt \u001b[38;5;241m=\u001b[39m m\u001b[38;5;241m.\u001b[39mu_gs_sqrt\n\u001b[0;32m---> 27\u001b[0m _variance \u001b[38;5;241m=\u001b[39m \u001b[43mm\u001b[49m\u001b[38;5;241;43m.\u001b[39;49m\u001b[43mlikelihood\u001b[49m\u001b[38;5;241;43m.\u001b[39;49m\u001b[43mvariance\u001b[49m\n\u001b[1;32m     29\u001b[0m _Kpg \u001b[38;5;241m=\u001b[39m tf\u001b[38;5;241m.\u001b[39mreshape(_pgmean,(\u001b[38;5;241m-\u001b[39m\u001b[38;5;241m1\u001b[39m,\u001b[38;5;241m1\u001b[39m)) \u001b[38;5;241m*\u001b[39m tf\u001b[38;5;241m.\u001b[39mreshape(_pgmean, (\u001b[38;5;241m1\u001b[39m,\u001b[38;5;241m-\u001b[39m\u001b[38;5;241m1\u001b[39m))\n\u001b[1;32m     30\u001b[0m _Kfg \u001b[38;5;241m=\u001b[39m _Kpg \u001b[38;5;241m*\u001b[39m _Kf\n",
      "\u001b[0;31mAttributeError\u001b[0m: 'OnOffPoissonLikelihood' object has no attribute 'variance'"
     ]
    }
   ],
   "source": [
    "# model plot\n",
    "PlotOnOff1D(m)"
   ]
  },
  {
   "cell_type": "code",
   "execution_count": null,
   "metadata": {},
   "outputs": [],
   "source": [
    "Xtrain.shape"
   ]
  },
  {
   "cell_type": "code",
   "execution_count": null,
   "metadata": {},
   "outputs": [],
   "source": [
    "from gpflow.config import default_jitter"
   ]
  },
  {
   "cell_type": "code",
   "execution_count": null,
   "metadata": {},
   "outputs": [],
   "source": [
    "default_jitter()"
   ]
  },
  {
   "cell_type": "code",
   "execution_count": null,
   "metadata": {},
   "outputs": [],
   "source": [
    "f.eye(m.num_inducing_f, dtype=float_type) * default_jitter()"
   ]
  },
  {
   "cell_type": "code",
   "execution_count": null,
   "metadata": {},
   "outputs": [],
   "source": [
    "kf.K(Xtrain)"
   ]
  },
  {
   "cell_type": "code",
   "execution_count": null,
   "metadata": {},
   "outputs": [],
   "source": [
    "default_float"
   ]
  },
  {
   "cell_type": "code",
   "execution_count": null,
   "metadata": {},
   "outputs": [],
   "source": [
    "gpf.default_float()"
   ]
  },
  {
   "cell_type": "code",
   "execution_count": null,
   "metadata": {},
   "outputs": [],
   "source": [
    "m.X.dtype"
   ]
  },
  {
   "cell_type": "code",
   "execution_count": null,
   "metadata": {},
   "outputs": [],
   "source": [
    "m.Zf.numpy()"
   ]
  },
  {
   "cell_type": "code",
   "execution_count": null,
   "metadata": {},
   "outputs": [],
   "source": [
    "m.likelihood.variance"
   ]
  },
  {
   "cell_type": "code",
   "execution_count": null,
   "metadata": {},
   "outputs": [],
   "source": [
    "m.kernf.K(m.Xtrain)"
   ]
  },
  {
   "cell_type": "code",
   "execution_count": null,
   "metadata": {},
   "outputs": [],
   "source": [
    "dir(m.kernf)"
   ]
  },
  {
   "cell_type": "code",
   "execution_count": null,
   "metadata": {},
   "outputs": [],
   "source": []
  },
  {
   "cell_type": "code",
   "execution_count": null,
   "metadata": {},
   "outputs": [],
   "source": [
    "import scipy\n",
    "optimizer = tf.optimizers.Adam()\n",
    "optimizer.minimize(\n",
    "    m.training_loss_closure(),\n",
    "    m.trainable_variables,\n",
    ")"
   ]
  },
  {
   "cell_type": "code",
   "execution_count": null,
   "metadata": {},
   "outputs": [],
   "source": [
    "m.training_loss_closure()"
   ]
  },
  {
   "cell_type": "code",
   "execution_count": null,
   "metadata": {},
   "outputs": [],
   "source": [
    "m.trainable_variables"
   ]
  },
  {
   "cell_type": "code",
   "execution_count": null,
   "metadata": {},
   "outputs": [],
   "source": [
    "m.training_loss()"
   ]
  },
  {
   "cell_type": "code",
   "execution_count": null,
   "metadata": {},
   "outputs": [],
   "source": [
    "m"
   ]
  },
  {
   "cell_type": "code",
   "execution_count": null,
   "metadata": {},
   "outputs": [],
   "source": [
    "optimizer = gpflow.optimizers.Scipy()\n",
    "optimizer.minimize(\n",
    "    m.training_loss_closure(compile=True),\n",
    "    m.trainable_variables,\n",
    "    options=dict(maxiter=(80000),),tol=1e-16\n",
    ")"
   ]
  },
  {
   "cell_type": "code",
   "execution_count": null,
   "metadata": {},
   "outputs": [],
   "source": [
    "m.likelihood"
   ]
  },
  {
   "cell_type": "code",
   "execution_count": null,
   "metadata": {},
   "outputs": [],
   "source": [
    "dir(m)"
   ]
  },
  {
   "cell_type": "code",
   "execution_count": null,
   "metadata": {},
   "outputs": [],
   "source": [
    "m.likelihood"
   ]
  },
  {
   "cell_type": "code",
   "execution_count": null,
   "metadata": {},
   "outputs": [],
   "source": [
    "m.Zf"
   ]
  },
  {
   "cell_type": "code",
   "execution_count": null,
   "metadata": {},
   "outputs": [],
   "source": [
    "m.Zg"
   ]
  },
  {
   "cell_type": "code",
   "execution_count": null,
   "metadata": {},
   "outputs": [],
   "source": [
    "Zf"
   ]
  },
  {
   "cell_type": "code",
   "execution_count": null,
   "metadata": {},
   "outputs": [],
   "source": [
    "dir(m.kerng)"
   ]
  },
  {
   "cell_type": "code",
   "execution_count": null,
   "metadata": {},
   "outputs": [],
   "source": [
    "m.kerng.variance"
   ]
  },
  {
   "cell_type": "code",
   "execution_count": null,
   "metadata": {},
   "outputs": [],
   "source": [
    "m.kernf.lengthscales"
   ]
  },
  {
   "cell_type": "code",
   "execution_count": null,
   "metadata": {},
   "outputs": [],
   "source": [
    "m.kerng"
   ]
  },
  {
   "cell_type": "code",
   "execution_count": null,
   "metadata": {},
   "outputs": [],
   "source": [
    "\n",
    "from gpflow.utilities import print_summary"
   ]
  },
  {
   "cell_type": "code",
   "execution_count": null,
   "metadata": {},
   "outputs": [],
   "source": [
    "print_summary(kg)"
   ]
  },
  {
   "cell_type": "code",
   "execution_count": null,
   "metadata": {},
   "outputs": [],
   "source": [
    "m.log_posterior_density"
   ]
  },
  {
   "cell_type": "code",
   "execution_count": null,
   "metadata": {},
   "outputs": [],
   "source": [
    "plt.plot(range(len(logf)), logf)\n",
    "plt.ylim(-200,600)"
   ]
  },
  {
   "cell_type": "code",
   "execution_count": null,
   "metadata": {},
   "outputs": [],
   "source": []
  }
 ],
 "metadata": {
  "hide_input": false,
  "kernelspec": {
   "display_name": "Python 3 (ipykernel)",
   "language": "python",
   "name": "python3"
  },
  "language_info": {
   "codemirror_mode": {
    "name": "ipython",
    "version": 3
   },
   "file_extension": ".py",
   "mimetype": "text/x-python",
   "name": "python",
   "nbconvert_exporter": "python",
   "pygments_lexer": "ipython3",
   "version": "3.10.5"
  },
  "varInspector": {
   "cols": {
    "lenName": 16,
    "lenType": 16,
    "lenVar": 40
   },
   "kernels_config": {
    "python": {
     "delete_cmd_postfix": "",
     "delete_cmd_prefix": "del ",
     "library": "var_list.py",
     "varRefreshCmd": "print(var_dic_list())"
    },
    "r": {
     "delete_cmd_postfix": ") ",
     "delete_cmd_prefix": "rm(",
     "library": "var_list.r",
     "varRefreshCmd": "cat(var_dic_list()) "
    }
   },
   "types_to_exclude": [
    "module",
    "function",
    "builtin_function_or_method",
    "instance",
    "_Feature"
   ],
   "window_display": false
  }
 },
 "nbformat": 4,
 "nbformat_minor": 2
}
