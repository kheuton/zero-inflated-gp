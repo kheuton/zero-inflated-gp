{
 "cells": [
  {
   "cell_type": "markdown",
   "metadata": {},
   "source": [
    "## Variational Zero-inflated Gaussian Processes in GPFlow"
   ]
  },
  {
   "cell_type": "code",
   "execution_count": 1,
   "metadata": {},
   "outputs": [],
   "source": [
    "%load_ext autoreload\n",
    "%autoreload 2\n",
    "import tensorflow as tf\n",
    "import gpflow as gpf\n",
    "import numpy as np\n",
    "gpf.config.set_default_float(np.float32)\n",
    "\n",
    "gpf.config.set_default_jitter(tf.cast(1e-6, dtype=gpf.default_float()))\n",
    "from onoffgpf import OnOffSVGP, OnOffLikelihood\n",
    "from onoffgpf.PlotOnOff1D import PlotOnOff1D\n",
    "\n",
    "from gpflow.ci_utils import ci_niter\n",
    "\n",
    "import gpflow\n",
    "\n",
    "import scipy.io as sio\n",
    "import matplotlib.pyplot as plt\n",
    "\n",
    "import tensorflow_probability as tfp"
   ]
  },
  {
   "cell_type": "markdown",
   "metadata": {},
   "source": [
    "** Load simulated dataset **"
   ]
  },
  {
   "cell_type": "code",
   "execution_count": 2,
   "metadata": {},
   "outputs": [],
   "source": [
    "matdata = sio.loadmat('data/toydata.mat')\n",
    "Xtrain = matdata['x'].astype(gpf.default_float())\n",
    "Ytrain = matdata['y'].astype(gpf.default_float())"
   ]
  },
  {
   "cell_type": "code",
   "execution_count": 3,
   "metadata": {},
   "outputs": [
    {
     "data": {
      "image/png": "[encoded data removed]",
      "text/plain": [
       "<Figure size 432x288 with 1 Axes>"
      ]
     },
     "metadata": {
      "needs_background": "light"
     },
     "output_type": "display_data"
    }
   ],
   "source": [
    "plt.scatter(Xtrain,Ytrain)\n",
    "plt.title(\"Simulated data\")\n",
    "plt.show()"
   ]
  },
  {
   "cell_type": "markdown",
   "metadata": {},
   "source": [
    "**Train specifications & variable initializations**"
   ]
  },
  {
   "cell_type": "code",
   "execution_count": 4,
   "metadata": {},
   "outputs": [],
   "source": [
    "num_iterations = 8000\n",
    "num_inducing   = 10\n",
    "\n",
    "# initalize kernel parameters\n",
    "kf = gpf.kernels.RBF(variance=1, lengthscales=2)\n",
    "#kf.lengthscales = 2.\n",
    "#kf.variance = 1.\n",
    "\n",
    "kg = gpf.kernels.RBF(variance=5, lengthscales=2)\n",
    "#kg.lengthscales = 2.\n",
    "#kg.variance = 5.\n",
    "\n",
    "# initialise equally spaced inducing point locations\n",
    "Zf = np.delete(np.linspace(min(Xtrain),max(Xtrain),num_inducing,endpoint=False),0).transpose().reshape(-1,1)\n",
    "Zg = np.delete(np.linspace(min(Xtrain),max(Xtrain),num_inducing,endpoint=False),0).transpose().reshape(-1,1)"
   ]
  },
  {
   "cell_type": "markdown",
   "metadata": {},
   "source": [
    "** Model build and training **"
   ]
  },
  {
   "cell_type": "code",
   "execution_count": 5,
   "metadata": {},
   "outputs": [],
   "source": [
    "# model definition\n",
    "m = OnOffSVGP(Xtrain, Ytrain\n",
    "              ,kernf=kf,kerng=kg\n",
    "              ,likelihood = OnOffLikelihood()\n",
    "              ,Zf = Zf,Zg = Zg\n",
    "             )\n",
    "\n",
    "# fix the model noise term\n",
    "m.likelihood.variance.assign(0.01)\n",
    "from gpflow import set_trainable\n",
    "set_trainable(m.likelihood.variance, True)\n",
    "\n",
    "minibatch_size = 100\n",
    "\n",
    "N=len(Xtrain)\n",
    "\n",
    "train_dataset = tf.data.Dataset.from_tensor_slices((tf.convert_to_tensor(Xtrain,),\n",
    "                                                    tf.convert_to_tensor(Ytrain,)),)#.repeat().shuffle(N)\n",
    "\n",
    "train_iter = iter(train_dataset)#batch(minibatch_size))\n"
   ]
  },
  {
   "cell_type": "code",
   "execution_count": 6,
   "metadata": {},
   "outputs": [],
   "source": [
    "def run_adam(model, iterations):\n",
    "    \"\"\"\n",
    "    Utility function running the Adam optimizer\n",
    "\n",
    "    :param model: GPflow model\n",
    "    :param interations: number of iterations\n",
    "    \"\"\"\n",
    "    # Create an Adam Optimizer action\n",
    "    logf = []\n",
    "    train_iter = train_dataset#iter(train_dataset.batch(minibatch_size))\n",
    "    training_loss = model.training_loss_closure(compile=True)\n",
    "    optimizer = tf.optimizers.Adam(learning_rate=0.005)#gpflow.optimizers.Adam(learning_rate=0.01)\n",
    "\n",
    "    @tf.function\n",
    "    def optimization_step():\n",
    "        optimizer.minimize(training_loss, model.trainable_variables)\n",
    "\n",
    "    for step in range(iterations):\n",
    "        optimization_step()\n",
    "        if step % 10 == 0:\n",
    "            elbo = -training_loss().numpy()\n",
    "            logf.append(elbo)\n",
    "    return logf"
   ]
  },
  {
   "cell_type": "code",
   "execution_count": 7,
   "metadata": {},
   "outputs": [],
   "source": [
    "maxiter = ci_niter(200000)\n",
    "\n",
    "logf = run_adam(m, maxiter)"
   ]
  },
  {
   "cell_type": "code",
   "execution_count": 8,
   "metadata": {},
   "outputs": [
    {
     "data": {
      "text/plain": [
       "528.4405"
      ]
     },
     "execution_count": 8,
     "metadata": {},
     "output_type": "execute_result"
    }
   ],
   "source": [
    "logf[-1]"
   ]
  },
  {
   "cell_type": "code",
   "execution_count": 65,
   "metadata": {},
   "outputs": [
    {
     "ename": "AttributeError",
     "evalue": "'OnOffSVGP' object has no attribute 'compute_log_likelihood'",
     "output_type": "error",
     "traceback": [
      "\u001b[0;31m---------------------------------------------------------------------------\u001b[0m",
      "\u001b[0;31mAttributeError\u001b[0m                            Traceback (most recent call last)",
      "Input \u001b[0;32mIn [65]\u001b[0m, in \u001b[0;36m<cell line: 2>\u001b[0;34m()\u001b[0m\n\u001b[1;32m      1\u001b[0m \u001b[38;5;66;03m#m.optimize(maxiter = num_iterations) #,method= tf.train.AdamOptimizer(learning_rate = 0.01)\u001b[39;00m\n\u001b[0;32m----> 2\u001b[0m \u001b[43mm\u001b[49m\u001b[38;5;241;43m.\u001b[39;49m\u001b[43mcompute_log_likelihood\u001b[49m()\n",
      "\u001b[0;31mAttributeError\u001b[0m: 'OnOffSVGP' object has no attribute 'compute_log_likelihood'"
     ]
    }
   ],
   "source": [
    "#m.optimize(maxiter = num_iterations) #,method= tf.train.AdamOptimizer(learning_rate = 0.01)\n",
    "m.compute_log_likelihood()"
   ]
  },
  {
   "cell_type": "markdown",
   "metadata": {},
   "source": [
    "** Mode fit visualization **"
   ]
  },
  {
   "cell_type": "code",
   "execution_count": 93,
   "metadata": {},
   "outputs": [
    {
     "data": {
      "image/png": "[encoded data removed]",
      "text/plain": [
       "<Figure size 792x720 with 12 Axes>"
      ]
     },
     "metadata": {
      "needs_background": "light"
     },
     "output_type": "display_data"
    }
   ],
   "source": [
    "# model plot\n",
    "PlotOnOff1D(m)"
   ]
  },
  {
   "cell_type": "code",
   "execution_count": 66,
   "metadata": {},
   "outputs": [
    {
     "data": {
      "text/plain": [
       "(450, 1)"
      ]
     },
     "execution_count": 66,
     "metadata": {},
     "output_type": "execute_result"
    }
   ],
   "source": [
    "Xtrain.shape"
   ]
  },
  {
   "cell_type": "code",
   "execution_count": 67,
   "metadata": {},
   "outputs": [],
   "source": [
    "from gpflow.config import default_jitter"
   ]
  },
  {
   "cell_type": "code",
   "execution_count": 13,
   "metadata": {},
   "outputs": [
    {
     "data": {
      "text/plain": [
       "<tf.Tensor: shape=(), dtype=float32, numpy=1e-06>"
      ]
     },
     "execution_count": 13,
     "metadata": {},
     "output_type": "execute_result"
    }
   ],
   "source": [
    "default_jitter()"
   ]
  },
  {
   "cell_type": "code",
   "execution_count": 14,
   "metadata": {},
   "outputs": [
    {
     "ename": "NameError",
     "evalue": "name 'f' is not defined",
     "output_type": "error",
     "traceback": [
      "\u001b[0;31m---------------------------------------------------------------------------\u001b[0m",
      "\u001b[0;31mNameError\u001b[0m                                 Traceback (most recent call last)",
      "Input \u001b[0;32mIn [14]\u001b[0m, in \u001b[0;36m<cell line: 1>\u001b[0;34m()\u001b[0m\n\u001b[0;32m----> 1\u001b[0m \u001b[43mf\u001b[49m\u001b[38;5;241m.\u001b[39meye(m\u001b[38;5;241m.\u001b[39mnum_inducing_f, dtype\u001b[38;5;241m=\u001b[39mfloat_type) \u001b[38;5;241m*\u001b[39m default_jitter()\n",
      "\u001b[0;31mNameError\u001b[0m: name 'f' is not defined"
     ]
    }
   ],
   "source": [
    "f.eye(m.num_inducing_f, dtype=float_type) * default_jitter()"
   ]
  },
  {
   "cell_type": "code",
   "execution_count": null,
   "metadata": {},
   "outputs": [],
   "source": [
    "kf.K(Xtrain)"
   ]
  },
  {
   "cell_type": "code",
   "execution_count": null,
   "metadata": {},
   "outputs": [],
   "source": [
    "default_float"
   ]
  },
  {
   "cell_type": "code",
   "execution_count": null,
   "metadata": {},
   "outputs": [],
   "source": [
    "gpf.default_float()"
   ]
  },
  {
   "cell_type": "code",
   "execution_count": null,
   "metadata": {},
   "outputs": [],
   "source": [
    "m.X.dtype"
   ]
  },
  {
   "cell_type": "code",
   "execution_count": null,
   "metadata": {},
   "outputs": [],
   "source": [
    "m.Zf.numpy()"
   ]
  },
  {
   "cell_type": "code",
   "execution_count": null,
   "metadata": {},
   "outputs": [],
   "source": [
    "m.likelihood.variance"
   ]
  },
  {
   "cell_type": "code",
   "execution_count": null,
   "metadata": {},
   "outputs": [],
   "source": [
    "m.kernf.K(m.Xtrain)"
   ]
  },
  {
   "cell_type": "code",
   "execution_count": null,
   "metadata": {},
   "outputs": [],
   "source": [
    "dir(m.kernf)"
   ]
  },
  {
   "cell_type": "code",
   "execution_count": null,
   "metadata": {},
   "outputs": [],
   "source": []
  },
  {
   "cell_type": "code",
   "execution_count": null,
   "metadata": {},
   "outputs": [],
   "source": [
    "import scipy\n",
    "optimizer = tf.optimizers.Adam()\n",
    "optimizer.minimize(\n",
    "    m.training_loss_closure(),\n",
    "    m.trainable_variables,\n",
    ")"
   ]
  },
  {
   "cell_type": "code",
   "execution_count": null,
   "metadata": {},
   "outputs": [],
   "source": [
    "m.training_loss_closure()"
   ]
  },
  {
   "cell_type": "code",
   "execution_count": null,
   "metadata": {},
   "outputs": [],
   "source": [
    "m.trainable_variables"
   ]
  },
  {
   "cell_type": "code",
   "execution_count": null,
   "metadata": {},
   "outputs": [],
   "source": [
    "m.training_loss()"
   ]
  },
  {
   "cell_type": "code",
   "execution_count": 38,
   "metadata": {},
   "outputs": [
    {
     "data": {
      "text/html": [
       "&lt;onoffgpf.OnOffSVGP.OnOffSVGP object at 0x7f7d8c9d2a10&gt;\n",
       "<table>\n",
       "<thead>\n",
       "<tr><th>name                         </th><th>class    </th><th>transform       </th><th>prior  </th><th>trainable  </th><th>shape  </th><th>dtype  </th><th>value          </th></tr>\n",
       "</thead>\n",
       "<tbody>\n",
       "<tr><td>OnOffSVGP.likelihood.variance</td><td>Parameter</td><td>Softplus + Shift</td><td>       </td><td>True       </td><td>()     </td><td>float32</td><td>0.04110934     </td></tr>\n",
       "<tr><td>OnOffSVGP.Zf                 </td><td>Parameter</td><td>Identity        </td><td>       </td><td>True       </td><td>(9, 1) </td><td>float32</td><td>[[-1.424971... </td></tr>\n",
       "<tr><td>OnOffSVGP.Zg                 </td><td>Parameter</td><td>Identity        </td><td>       </td><td>True       </td><td>(9, 1) </td><td>float32</td><td>[[-2.149004... </td></tr>\n",
       "<tr><td>OnOffSVGP.u_fm               </td><td>Parameter</td><td>Identity        </td><td>       </td><td>True       </td><td>(9, 1) </td><td>float32</td><td>[[-0.0846932...</td></tr>\n",
       "<tr><td>OnOffSVGP.u_gm               </td><td>Parameter</td><td>Identity        </td><td>       </td><td>True       </td><td>(9, 1) </td><td>float32</td><td>[[-1.0552356...</td></tr>\n",
       "<tr><td>OnOffSVGP.u_fs_sqrt          </td><td>Parameter</td><td>Softplus        </td><td>       </td><td>True       </td><td>(9, 1) </td><td>float32</td><td>[[0.57688844...</td></tr>\n",
       "<tr><td>OnOffSVGP.u_gs_sqrt          </td><td>Parameter</td><td>Softplus        </td><td>       </td><td>True       </td><td>(9, 1) </td><td>float32</td><td>[[1.9072903... </td></tr>\n",
       "</tbody>\n",
       "</table>"
      ],
      "text/plain": [
       "<onoffgpf.OnOffSVGP.OnOffSVGP object at 0x7f7d8c9d2a10>\n",
       "╒═══════════════════════════════╤═══════════╤══════════════════╤═════════╤═════════════╤═════════╤═════════╤═════════════════╕\n",
       "│ name                          │ class     │ transform        │ prior   │ trainable   │ shape   │ dtype   │ value           │\n",
       "╞═══════════════════════════════╪═══════════╪══════════════════╪═════════╪═════════════╪═════════╪═════════╪═════════════════╡\n",
       "│ OnOffSVGP.likelihood.variance │ Parameter │ Softplus + Shift │         │ True        │ ()      │ float32 │ 0.04110934      │\n",
       "├───────────────────────────────┼───────────┼──────────────────┼─────────┼─────────────┼─────────┼─────────┼─────────────────┤\n",
       "│ OnOffSVGP.Zf                  │ Parameter │ Identity         │         │ True        │ (9, 1)  │ float32 │ [[-1.424971...  │\n",
       "├───────────────────────────────┼───────────┼──────────────────┼─────────┼─────────────┼─────────┼─────────┼─────────────────┤\n",
       "│ OnOffSVGP.Zg                  │ Parameter │ Identity         │         │ True        │ (9, 1)  │ float32 │ [[-2.149004...  │\n",
       "├───────────────────────────────┼───────────┼──────────────────┼─────────┼─────────────┼─────────┼─────────┼─────────────────┤\n",
       "│ OnOffSVGP.u_fm                │ Parameter │ Identity         │         │ True        │ (9, 1)  │ float32 │ [[-0.0846932... │\n",
       "├───────────────────────────────┼───────────┼──────────────────┼─────────┼─────────────┼─────────┼─────────┼─────────────────┤\n",
       "│ OnOffSVGP.u_gm                │ Parameter │ Identity         │         │ True        │ (9, 1)  │ float32 │ [[-1.0552356... │\n",
       "├───────────────────────────────┼───────────┼──────────────────┼─────────┼─────────────┼─────────┼─────────┼─────────────────┤\n",
       "│ OnOffSVGP.u_fs_sqrt           │ Parameter │ Softplus         │         │ True        │ (9, 1)  │ float32 │ [[0.57688844... │\n",
       "├───────────────────────────────┼───────────┼──────────────────┼─────────┼─────────────┼─────────┼─────────┼─────────────────┤\n",
       "│ OnOffSVGP.u_gs_sqrt           │ Parameter │ Softplus         │         │ True        │ (9, 1)  │ float32 │ [[1.9072903...  │\n",
       "╘═══════════════════════════════╧═══════════╧══════════════════╧═════════╧═════════════╧═════════╧═════════╧═════════════════╛"
      ]
     },
     "execution_count": 38,
     "metadata": {},
     "output_type": "execute_result"
    }
   ],
   "source": [
    "m"
   ]
  },
  {
   "cell_type": "code",
   "execution_count": 26,
   "metadata": {},
   "outputs": [
    {
     "data": {
      "text/plain": [
       "      fun: -252.29525756835938\n",
       " hess_inv: <59x59 LbfgsInvHessProduct with dtype=float64>\n",
       "      jac: array([-1.54452801e-01,  7.68044829e-01,  5.91257572e+00, -3.97183418e+00,\n",
       "       -5.27718544e-01,  3.20123386e+00, -1.45729065e+00, -8.55290413e-01,\n",
       "        2.04404044e+00,  6.10290337e+00, -5.41131592e+00, -1.17062588e+01,\n",
       "        2.10207062e+01, -5.10620117e+00,  2.86854248e+01,  9.04017639e+00,\n",
       "       -6.14822388e+00,  5.69590807e-01,  3.84891176e+00,  7.46709919e+00,\n",
       "        1.86324997e+01, -1.41025639e+01,  5.99982738e+00, -2.20075798e+00,\n",
       "        9.69505310e-03,  4.70506477e+00,  3.56710911e+00, -8.19399893e-01,\n",
       "       -6.48524284e-01,  5.36472619e-01, -5.69515824e-02,  1.58759832e-01,\n",
       "       -5.50393403e-01,  9.19881940e-01,  1.73107982e-01, -6.20592356e-01,\n",
       "       -1.15292454e+00, -3.71976376e-01, -6.56942368e+00, -2.98317432e-01,\n",
       "        6.52072906e-01, -2.70233154e-02, -3.91662121e-01, -4.64838982e-01,\n",
       "       -3.35811496e-01, -2.19558835e-01, -2.26756036e-01, -8.89124513e-01,\n",
       "       -9.75668132e-01, -9.01937127e-01, -8.26339006e-01, -9.95472670e-02,\n",
       "        3.44980896e-01, -8.23538184e-01,  5.02914429e-01,  8.72070312e-01,\n",
       "        4.11433983e+00, -8.35282898e+00, -4.70623779e+00])\n",
       "  message: 'CONVERGENCE: REL_REDUCTION_OF_F_<=_FACTR*EPSMCH'\n",
       "     nfev: 19\n",
       "      nit: 1\n",
       "     njev: 19\n",
       "   status: 0\n",
       "  success: True\n",
       "        x: array([-0.46430963,  1.18965864,  2.53953576,  3.75110745,  4.64623547,\n",
       "        6.46839523,  7.25552416,  9.23333359, 10.2688694 ,  1.263991  ,\n",
       "        1.66830277,  2.79949093,  4.38327694,  4.90238476,  4.98242521,\n",
       "        8.69928741,  8.87840748, 11.04839611,  0.17882545, -0.16383271,\n",
       "       -0.41800192, -0.79636306, -0.99490631, -0.39831632,  0.08892248,\n",
       "        0.44871518,  0.3299759 , -3.0302012 , -3.86262655, -4.08131599,\n",
       "       -4.53279734, -4.32757425, -4.785954  , -3.50194407, -3.96881175,\n",
       "       -3.45976949, -3.68315148,  0.95788288,  0.63480836,  0.54342735,\n",
       "        0.0870852 ,  1.90852976, -3.49233747, -0.15677336,  0.027202  ,\n",
       "       -0.25650439, -0.92164427, -2.68974233, -3.94941306, -3.84506488,\n",
       "       -3.21831536, -0.96151567, -1.26205409, -0.90071499,  1.94699693,\n",
       "       -0.562567  , -0.19553944,  4.99517965, -4.45741987])"
      ]
     },
     "execution_count": 26,
     "metadata": {},
     "output_type": "execute_result"
    }
   ],
   "source": [
    "optimizer = gpflow.optimizers.Scipy()\n",
    "optimizer.minimize(\n",
    "    m.training_loss_closure(compile=True),\n",
    "    m.trainable_variables,\n",
    "    options=dict(maxiter=(80000),),tol=1e-16\n",
    ")"
   ]
  },
  {
   "cell_type": "code",
   "execution_count": 31,
   "metadata": {},
   "outputs": [
    {
     "data": {
      "text/html": [
       "&lt;onoffgpf.OnOffLikelihood.OnOffLikelihood object at 0x7f7d4558f5e0&gt;\n",
       "<table>\n",
       "<thead>\n",
       "<tr><th>name                    </th><th>class    </th><th>transform       </th><th>prior  </th><th>trainable  </th><th>shape  </th><th>dtype  </th><th style=\"text-align: right;\">    value</th></tr>\n",
       "</thead>\n",
       "<tbody>\n",
       "<tr><td>OnOffLikelihood.variance</td><td>Parameter</td><td>Softplus + Shift</td><td>       </td><td>True       </td><td>()     </td><td>float32</td><td style=\"text-align: right;\">0.0407482</td></tr>\n",
       "</tbody>\n",
       "</table>"
      ],
      "text/plain": [
       "<onoffgpf.OnOffLikelihood.OnOffLikelihood object at 0x7f7d4558f5e0>\n",
       "╒══════════════════════════╤═══════════╤══════════════════╤═════════╤═════════════╤═════════╤═════════╤═══════════╕\n",
       "│ name                     │ class     │ transform        │ prior   │ trainable   │ shape   │ dtype   │     value │\n",
       "╞══════════════════════════╪═══════════╪══════════════════╪═════════╪═════════════╪═════════╪═════════╪═══════════╡\n",
       "│ OnOffLikelihood.variance │ Parameter │ Softplus + Shift │         │ True        │ ()      │ float32 │ 0.0407482 │\n",
       "╘══════════════════════════╧═══════════╧══════════════════╧═════════╧═════════════╧═════════╧═════════╧═══════════╛"
      ]
     },
     "execution_count": 31,
     "metadata": {},
     "output_type": "execute_result"
    }
   ],
   "source": [
    "m.likelihood"
   ]
  },
  {
   "cell_type": "code",
   "execution_count": 19,
   "metadata": {},
   "outputs": [
    {
     "data": {
      "text/plain": [
       "['ProbitExpectations',\n",
       " 'X',\n",
       " 'Xtrain',\n",
       " 'Y',\n",
       " 'Ytrain',\n",
       " 'Zf',\n",
       " 'Zg',\n",
       " '_TF_MODULE_IGNORED_PROPERTIES',\n",
       " '__abstractmethods__',\n",
       " '__annotations__',\n",
       " '__class__',\n",
       " '__delattr__',\n",
       " '__dict__',\n",
       " '__dir__',\n",
       " '__doc__',\n",
       " '__eq__',\n",
       " '__format__',\n",
       " '__ge__',\n",
       " '__getattribute__',\n",
       " '__gt__',\n",
       " '__hash__',\n",
       " '__init__',\n",
       " '__init_subclass__',\n",
       " '__le__',\n",
       " '__lt__',\n",
       " '__module__',\n",
       " '__ne__',\n",
       " '__new__',\n",
       " '__reduce__',\n",
       " '__reduce_ex__',\n",
       " '__repr__',\n",
       " '__setattr__',\n",
       " '__sizeof__',\n",
       " '__str__',\n",
       " '__subclasshook__',\n",
       " '__weakref__',\n",
       " '_abc_impl',\n",
       " '_add_trackable_child',\n",
       " '_add_variable_with_custom_getter',\n",
       " '_checkpoint_dependencies',\n",
       " '_deferred_dependencies',\n",
       " '_delete_tracking',\n",
       " '_deserialization_dependencies',\n",
       " '_deserialize_from_proto',\n",
       " '_export_to_saved_model_graph',\n",
       " '_flatten',\n",
       " '_gather_saveables_for_checkpoint',\n",
       " '_get_legacy_saved_model_children',\n",
       " '_handle_deferred_dependencies',\n",
       " '_list_extra_dependencies_for_serialization',\n",
       " '_list_functions_for_serialization',\n",
       " '_lookup_dependency',\n",
       " '_map_resources',\n",
       " '_maybe_initialize_trackable',\n",
       " '_name',\n",
       " '_name_based_attribute_restore',\n",
       " '_name_based_restores',\n",
       " '_name_scope',\n",
       " '_no_dependency',\n",
       " '_object_identifier',\n",
       " '_preload_simple_restoration',\n",
       " '_repr_html_',\n",
       " '_repr_pretty_',\n",
       " '_representation_table',\n",
       " '_restore_from_checkpoint_position',\n",
       " '_restore_from_tensors',\n",
       " '_self_name_based_restores',\n",
       " '_self_saveable_object_factories',\n",
       " '_self_setattr_tracking',\n",
       " '_self_unconditional_checkpoint_dependencies',\n",
       " '_self_unconditional_deferred_dependencies',\n",
       " '_self_unconditional_dependency_names',\n",
       " '_self_update_uid',\n",
       " '_serialize_to_proto',\n",
       " '_serialize_to_tensors',\n",
       " '_setattr_tracking',\n",
       " '_single_restoration_from_checkpoint_position',\n",
       " '_tf_api_names',\n",
       " '_tf_api_names_v1',\n",
       " '_track_trackable',\n",
       " '_trackable_children',\n",
       " '_training_loss',\n",
       " '_unconditional_checkpoint_dependencies',\n",
       " '_unconditional_dependency_names',\n",
       " '_update_uid',\n",
       " 'build_likelihood',\n",
       " 'build_predict',\n",
       " 'build_prior_KL',\n",
       " 'compute_prior_KL',\n",
       " 'kernf',\n",
       " 'kerng',\n",
       " 'likelihood',\n",
       " 'log_posterior_density',\n",
       " 'log_prior_density',\n",
       " 'maximum_log_likelihood_objective',\n",
       " 'mean_function',\n",
       " 'name',\n",
       " 'name_scope',\n",
       " 'non_trainable_variables',\n",
       " 'num_data',\n",
       " 'num_inducing_f',\n",
       " 'num_inducing_g',\n",
       " 'num_latent',\n",
       " 'parameters',\n",
       " 'predict_onoffgp',\n",
       " 'q_diag',\n",
       " 'savemodel',\n",
       " 'submodules',\n",
       " 'trainable_parameters',\n",
       " 'trainable_variables',\n",
       " 'training_loss',\n",
       " 'training_loss_closure',\n",
       " 'u_fm',\n",
       " 'u_fs_sqrt',\n",
       " 'u_gm',\n",
       " 'u_gs_sqrt',\n",
       " 'variables',\n",
       " 'whiten',\n",
       " 'with_name_scope']"
      ]
     },
     "execution_count": 19,
     "metadata": {},
     "output_type": "execute_result"
    }
   ],
   "source": [
    "dir(m)"
   ]
  },
  {
   "cell_type": "code",
   "execution_count": 22,
   "metadata": {},
   "outputs": [
    {
     "data": {
      "text/html": [
       "&lt;onoffgpf.OnOffLikelihood.OnOffLikelihood object at 0x7f7d44e62440&gt;\n",
       "<table>\n",
       "<thead>\n",
       "<tr><th>name                    </th><th>class    </th><th>transform       </th><th>prior  </th><th>trainable  </th><th>shape  </th><th>dtype  </th><th style=\"text-align: right;\">  value</th></tr>\n",
       "</thead>\n",
       "<tbody>\n",
       "<tr><td>OnOffLikelihood.variance</td><td>Parameter</td><td>Softplus + Shift</td><td>       </td><td>False      </td><td>()     </td><td>float32</td><td style=\"text-align: right;\">   0.01</td></tr>\n",
       "</tbody>\n",
       "</table>"
      ],
      "text/plain": [
       "<onoffgpf.OnOffLikelihood.OnOffLikelihood object at 0x7f7d44e62440>\n",
       "╒══════════════════════════╤═══════════╤══════════════════╤═════════╤═════════════╤═════════╤═════════╤═════════╕\n",
       "│ name                     │ class     │ transform        │ prior   │ trainable   │ shape   │ dtype   │   value │\n",
       "╞══════════════════════════╪═══════════╪══════════════════╪═════════╪═════════════╪═════════╪═════════╪═════════╡\n",
       "│ OnOffLikelihood.variance │ Parameter │ Softplus + Shift │         │ False       │ ()      │ float32 │    0.01 │\n",
       "╘══════════════════════════╧═══════════╧══════════════════╧═════════╧═════════════╧═════════╧═════════╧═════════╛"
      ]
     },
     "execution_count": 22,
     "metadata": {},
     "output_type": "execute_result"
    }
   ],
   "source": [
    "m.likelihood"
   ]
  },
  {
   "cell_type": "code",
   "execution_count": 39,
   "metadata": {},
   "outputs": [
    {
     "data": {
      "text/plain": [
       "<Parameter: name=identity, dtype=float32, shape=[9, 1], fn=\"identity\", numpy=\n",
       "array([[-1.424971 ],\n",
       "       [ 0.8191449],\n",
       "       [ 2.4437728],\n",
       "       [ 3.756588 ],\n",
       "       [ 5.4873586],\n",
       "       [ 6.7399635],\n",
       "       [ 8.854808 ],\n",
       "       [ 9.710754 ],\n",
       "       [12.028399 ]], dtype=float32)>"
      ]
     },
     "execution_count": 39,
     "metadata": {},
     "output_type": "execute_result"
    }
   ],
   "source": [
    "m.Zf"
   ]
  },
  {
   "cell_type": "code",
   "execution_count": 44,
   "metadata": {},
   "outputs": [
    {
     "data": {
      "text/plain": [
       "<Parameter: name=identity, dtype=float32, shape=[9, 1], fn=\"identity\", numpy=\n",
       "array([[-2.149004  ],\n",
       "       [ 0.88961995],\n",
       "       [ 2.6740112 ],\n",
       "       [ 3.8661952 ],\n",
       "       [ 4.9942446 ],\n",
       "       [ 6.1200147 ],\n",
       "       [ 7.7307625 ],\n",
       "       [ 9.103663  ],\n",
       "       [14.580972  ]], dtype=float32)>"
      ]
     },
     "execution_count": 44,
     "metadata": {},
     "output_type": "execute_result"
    }
   ],
   "source": [
    "m.Zg"
   ]
  },
  {
   "cell_type": "code",
   "execution_count": 46,
   "metadata": {},
   "outputs": [
    {
     "data": {
      "text/plain": [
       "array([[1.],\n",
       "       [2.],\n",
       "       [3.],\n",
       "       [4.],\n",
       "       [5.],\n",
       "       [6.],\n",
       "       [7.],\n",
       "       [8.],\n",
       "       [9.]], dtype=float32)"
      ]
     },
     "execution_count": 46,
     "metadata": {},
     "output_type": "execute_result"
    }
   ],
   "source": [
    "Zf"
   ]
  },
  {
   "cell_type": "code",
   "execution_count": 51,
   "metadata": {},
   "outputs": [
    {
     "data": {
      "text/plain": [
       "['K',\n",
       " 'K_diag',\n",
       " 'K_r2',\n",
       " '_TF_MODULE_IGNORED_PROPERTIES',\n",
       " '__abstractmethods__',\n",
       " '__add__',\n",
       " '__annotations__',\n",
       " '__call__',\n",
       " '__class__',\n",
       " '__delattr__',\n",
       " '__dict__',\n",
       " '__dir__',\n",
       " '__doc__',\n",
       " '__eq__',\n",
       " '__format__',\n",
       " '__ge__',\n",
       " '__getattribute__',\n",
       " '__gt__',\n",
       " '__hash__',\n",
       " '__init__',\n",
       " '__init_subclass__',\n",
       " '__le__',\n",
       " '__lt__',\n",
       " '__module__',\n",
       " '__mul__',\n",
       " '__ne__',\n",
       " '__new__',\n",
       " '__reduce__',\n",
       " '__reduce_ex__',\n",
       " '__repr__',\n",
       " '__setattr__',\n",
       " '__sizeof__',\n",
       " '__str__',\n",
       " '__subclasshook__',\n",
       " '__weakref__',\n",
       " '_abc_impl',\n",
       " '_active_dims',\n",
       " '_add_trackable_child',\n",
       " '_add_variable_with_custom_getter',\n",
       " '_checkpoint_dependencies',\n",
       " '_deferred_dependencies',\n",
       " '_delete_tracking',\n",
       " '_deserialization_dependencies',\n",
       " '_deserialize_from_proto',\n",
       " '_export_to_saved_model_graph',\n",
       " '_flatten',\n",
       " '_gather_saveables_for_checkpoint',\n",
       " '_get_legacy_saved_model_children',\n",
       " '_handle_deferred_dependencies',\n",
       " '_list_extra_dependencies_for_serialization',\n",
       " '_list_functions_for_serialization',\n",
       " '_lookup_dependency',\n",
       " '_map_resources',\n",
       " '_maybe_initialize_trackable',\n",
       " '_name',\n",
       " '_name_based_attribute_restore',\n",
       " '_name_based_restores',\n",
       " '_name_scope',\n",
       " '_no_dependency',\n",
       " '_normalize_active_dims',\n",
       " '_object_identifier',\n",
       " '_preload_simple_restoration',\n",
       " '_repr_html_',\n",
       " '_repr_pretty_',\n",
       " '_representation_table',\n",
       " '_restore_from_checkpoint_position',\n",
       " '_restore_from_tensors',\n",
       " '_self_name_based_restores',\n",
       " '_self_saveable_object_factories',\n",
       " '_self_setattr_tracking',\n",
       " '_self_unconditional_checkpoint_dependencies',\n",
       " '_self_unconditional_deferred_dependencies',\n",
       " '_self_unconditional_dependency_names',\n",
       " '_self_update_uid',\n",
       " '_serialize_to_proto',\n",
       " '_serialize_to_tensors',\n",
       " '_setattr_tracking',\n",
       " '_single_restoration_from_checkpoint_position',\n",
       " '_tf_api_names',\n",
       " '_tf_api_names_v1',\n",
       " '_track_trackable',\n",
       " '_trackable_children',\n",
       " '_unconditional_checkpoint_dependencies',\n",
       " '_unconditional_dependency_names',\n",
       " '_update_uid',\n",
       " '_validate_ard_active_dims',\n",
       " 'active_dims',\n",
       " 'ard',\n",
       " 'lengthscales',\n",
       " 'name',\n",
       " 'name_scope',\n",
       " 'non_trainable_variables',\n",
       " 'on_separate_dims',\n",
       " 'parameters',\n",
       " 'scale',\n",
       " 'scaled_squared_euclid_dist',\n",
       " 'slice',\n",
       " 'slice_cov',\n",
       " 'submodules',\n",
       " 'trainable_parameters',\n",
       " 'trainable_variables',\n",
       " 'variables',\n",
       " 'variance',\n",
       " 'with_name_scope']"
      ]
     },
     "execution_count": 51,
     "metadata": {},
     "output_type": "execute_result"
    }
   ],
   "source": [
    "dir(m.kerng)"
   ]
  },
  {
   "cell_type": "code",
   "execution_count": 54,
   "metadata": {},
   "outputs": [
    {
     "data": {
      "text/plain": [
       "5.0"
      ]
     },
     "execution_count": 54,
     "metadata": {},
     "output_type": "execute_result"
    }
   ],
   "source": [
    "m.kerng.variance"
   ]
  },
  {
   "cell_type": "code",
   "execution_count": 58,
   "metadata": {},
   "outputs": [
    {
     "data": {
      "text/plain": [
       "2.0"
      ]
     },
     "execution_count": 58,
     "metadata": {},
     "output_type": "execute_result"
    }
   ],
   "source": [
    "m.kernf.lengthscales"
   ]
  },
  {
   "cell_type": "code",
   "execution_count": 59,
   "metadata": {},
   "outputs": [
    {
     "data": {
      "text/html": [
       "&lt;gpflow.kernels.stationaries.SquaredExponential object at 0x7f7dac3ff670&gt;"
      ],
      "text/plain": [
       "<gpflow.kernels.stationaries.SquaredExponential object at 0x7f7dac3ff670>"
      ]
     },
     "execution_count": 59,
     "metadata": {},
     "output_type": "execute_result"
    }
   ],
   "source": [
    "m.kerng"
   ]
  },
  {
   "cell_type": "code",
   "execution_count": 60,
   "metadata": {},
   "outputs": [],
   "source": [
    "\n",
    "from gpflow.utilities import print_summary"
   ]
  },
  {
   "cell_type": "code",
   "execution_count": 70,
   "metadata": {},
   "outputs": [
    {
     "name": "stdout",
     "output_type": "stream",
     "text": [
      "╒═════════════════════════════════╤═══════════╤═════════════╤═════════╤═════════════╤═════════╤═════════╤═════════╕\n",
      "│ name                            │ class     │ transform   │ prior   │ trainable   │ shape   │ dtype   │   value │\n",
      "╞═════════════════════════════════╪═══════════╪═════════════╪═════════╪═════════════╪═════════╪═════════╪═════════╡\n",
      "│ SquaredExponential.variance     │ Parameter │ Softplus    │         │ True        │ ()      │ float32 │       5 │\n",
      "├─────────────────────────────────┼───────────┼─────────────┼─────────┼─────────────┼─────────┼─────────┼─────────┤\n",
      "│ SquaredExponential.lengthscales │ Parameter │ Softplus    │         │ True        │ ()      │ float32 │       2 │\n",
      "╘═════════════════════════════════╧═══════════╧═════════════╧═════════╧═════════════╧═════════╧═════════╧═════════╛\n"
     ]
    }
   ],
   "source": [
    "print_summary(kg)"
   ]
  },
  {
   "cell_type": "code",
   "execution_count": 87,
   "metadata": {},
   "outputs": [
    {
     "data": {
      "text/plain": [
       "<bound method BayesianModel.log_posterior_density of <onoffgpf.OnOffSVGP.OnOffSVGP object at 0x7f7d8c932410>>"
      ]
     },
     "execution_count": 87,
     "metadata": {},
     "output_type": "execute_result"
    }
   ],
   "source": [
    "m.log_posterior_density"
   ]
  },
  {
   "cell_type": "code",
   "execution_count": 1,
   "metadata": {},
   "outputs": [
    {
     "ename": "NameError",
     "evalue": "name 'plt' is not defined",
     "output_type": "error",
     "traceback": [
      "\u001b[0;31m---------------------------------------------------------------------------\u001b[0m",
      "\u001b[0;31mNameError\u001b[0m                                 Traceback (most recent call last)",
      "Input \u001b[0;32mIn [1]\u001b[0m, in \u001b[0;36m<cell line: 1>\u001b[0;34m()\u001b[0m\n\u001b[0;32m----> 1\u001b[0m \u001b[43mplt\u001b[49m\u001b[38;5;241m.\u001b[39mplot(\u001b[38;5;28mrange\u001b[39m(\u001b[38;5;28mlen\u001b[39m(logf)), logf)\n\u001b[1;32m      2\u001b[0m plt\u001b[38;5;241m.\u001b[39mylim(\u001b[38;5;241m-\u001b[39m\u001b[38;5;241m200\u001b[39m,\u001b[38;5;241m600\u001b[39m)\n",
      "\u001b[0;31mNameError\u001b[0m: name 'plt' is not defined"
     ]
    }
   ],
   "source": [
    "plt.plot(range(len(logf)), logf)\n",
    "plt.ylim(-200,600)"
   ]
  },
  {
   "cell_type": "code",
   "execution_count": null,
   "metadata": {},
   "outputs": [],
   "source": []
  }
 ],
 "metadata": {
  "hide_input": false,
  "kernelspec": {
   "display_name": "Python 3 (ipykernel)",
   "language": "python",
   "name": "python3"
  },
  "language_info": {
   "codemirror_mode": {
    "name": "ipython",
    "version": 3
   },
   "file_extension": ".py",
   "mimetype": "text/x-python",
   "name": "python",
   "nbconvert_exporter": "python",
   "pygments_lexer": "ipython3",
   "version": "3.9.13"
  },
  "varInspector": {
   "cols": {
    "lenName": 16,
    "lenType": 16,
    "lenVar": 40
   },
   "kernels_config": {
    "python": {
     "delete_cmd_postfix": "",
     "delete_cmd_prefix": "del ",
     "library": "var_list.py",
     "varRefreshCmd": "print(var_dic_list())"
    },
    "r": {
     "delete_cmd_postfix": ") ",
     "delete_cmd_prefix": "rm(",
     "library": "var_list.r",
     "varRefreshCmd": "cat(var_dic_list()) "
    }
   },
   "types_to_exclude": [
    "module",
    "function",
    "builtin_function_or_method",
    "instance",
    "_Feature"
   ],
   "window_display": false
  }
 },
 "nbformat": 4,
 "nbformat_minor": 2
}
